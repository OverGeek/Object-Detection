{
  "nbformat": 4,
  "nbformat_minor": 0,
  "metadata": {
    "colab": {
      "name": "Final_Submission.ipynb",
      "version": "0.3.2",
      "provenance": [],
      "collapsed_sections": [],
      "toc_visible": true
    },
    "kernelspec": {
      "name": "python3",
      "display_name": "Python 3"
    },
    "accelerator": "GPU"
  },
  "cells": [
    {
      "metadata": {
        "id": "w8ToBj1zoeDM",
        "colab_type": "text"
      },
      "cell_type": "markdown",
      "source": [
        "# SECTION-1\n",
        "\n",
        "CODE TO DOWNLOAD AND EXTRACT IMAGE FILES - NO NEED TO RUN IF images FOLDER IS ALREADY PRESENT IN THE CURRENT WORKING DIRECTORY"
      ]
    },
    {
      "metadata": {
        "id": "yYEYcvEc_o0j",
        "colab_type": "code",
        "colab": {}
      },
      "cell_type": "code",
      "source": [
        "!wget --header=\"Host: doc-0o-2s-docs.googleusercontent.com\" --header=\"User-Agent: Mozilla/5.0 (Windows NT 10.0; Win64; x64) AppleWebKit/537.36 (KHTML, like Gecko) Chrome/72.0.3626.119 Safari/537.36\" --header=\"Accept: text/html,application/xhtml+xml,application/xml;q=0.9,image/webp,image/apng,*/*;q=0.8\" \"https://doc-0o-2s-docs.googleusercontent.com/docs/securesc/ha0ro937gcuc7l7deffksulhg5h7mbp1/l0nb1suhn7nk2v389qav1jii1uj5maul/1551168000000/14696292948499217652/*/1TaIsOusinIiDnuUcUBsrA4SArO1WAVv0?e=download\" -O \"Copy of FlipkartGridStage2DataSetImages.zip\" -c"
      ],
      "execution_count": 0,
      "outputs": []
    },
    {
      "metadata": {
        "id": "E8mc99iCANxH",
        "colab_type": "code",
        "colab": {}
      },
      "cell_type": "code",
      "source": [
        "!unzip -qq 'Copy of FlipkartGridStage2DataSetImages.zip'"
      ],
      "execution_count": 0,
      "outputs": []
    },
    {
      "metadata": {
        "id": "5oEondSVC-xh",
        "colab_type": "code",
        "colab": {}
      },
      "cell_type": "code",
      "source": [
        "import os as os\n",
        "len(os.listdir('images/'))"
      ],
      "execution_count": 0,
      "outputs": []
    },
    {
      "metadata": {
        "id": "_XXmJ0cfoqHC",
        "colab_type": "text"
      },
      "cell_type": "markdown",
      "source": [
        "# SECTION-2\n",
        "\n",
        "Code to read the training csv file of both round-2 and round-3, shuffle it and re-saving it as new_training_combined.csv. \n",
        "\n",
        "We also move the training images in a new directory named 'train'\n",
        "\n",
        "We read test.csv file and move the test images to a new directory 'test'"
      ]
    },
    {
      "metadata": {
        "id": "I-DTiHA7d29e",
        "colab_type": "code",
        "outputId": "019e2b72-0556-4846-d97f-29450f22e01f",
        "colab": {
          "base_uri": "https://localhost:8080/",
          "height": 34
        }
      },
      "cell_type": "code",
      "source": [
        "import pandas as pd\n",
        "from sklearn.utils import shuffle\n",
        "\n",
        "train = pd.read_csv('training_set.csv')\n",
        "trainx = pd.read_csv('training.csv')\n",
        "trainx = trainx[['image_name', 'x1', 'x2', 'y1', 'y2']]\n",
        "train = pd.concat([train, trainx], axis = 0)\n",
        "train = train.drop_duplicates(subset = 'image_name')\n",
        "train = shuffle(train)\n",
        "train.to_csv('new_training_combined.csv', index = False)\n",
        "\n",
        "train = pd.read_csv('new_training_combined.csv')\n",
        "train.shape"
      ],
      "execution_count": 63,
      "outputs": [
        {
          "output_type": "execute_result",
          "data": {
            "text/plain": [
              "(30970, 5)"
            ]
          },
          "metadata": {
            "tags": []
          },
          "execution_count": 63
        }
      ]
    },
    {
      "metadata": {
        "id": "JTzYt-HEuSi0",
        "colab_type": "code",
        "colab": {}
      },
      "cell_type": "code",
      "source": [
        "train2 = pd.DataFrame([], columns = ['image_name', 'cx', 'cy', 'lx', 'ly'])\n",
        "train2['image_name'] = train['image_name']\n",
        "train2['cx'] = (train['x1'] + train['x2'])/2.\n",
        "train2['cy'] = (train['y1'] + train['y2'])/2.\n",
        "train2['lx'] = (train['x2'] - train['x1'])\n",
        "train2['ly'] = (train['y2'] - train['y1'])\n",
        "\n",
        "#scaler = MinMaxScaler()\n",
        "#train2[['cx', 'cy', 'lx', 'ly']] = scaler.fit_transform(train2[['cx', 'cy', 'lx', 'ly']])\n",
        "train2.head()"
      ],
      "execution_count": 0,
      "outputs": []
    },
    {
      "metadata": {
        "id": "x8q4X6CEsqEU",
        "colab_type": "code",
        "colab": {}
      },
      "cell_type": "code",
      "source": [
        "train2.shape"
      ],
      "execution_count": 0,
      "outputs": []
    },
    {
      "metadata": {
        "id": "FuhQx3Ph7J3O",
        "colab_type": "code",
        "colab": {}
      },
      "cell_type": "code",
      "source": [
        "import pandas as pd\n",
        "test = pd.read_csv('test.csv')\n",
        "test.head()"
      ],
      "execution_count": 0,
      "outputs": []
    },
    {
      "metadata": {
        "id": "BDmA8MXy7nBE",
        "colab_type": "code",
        "colab": {}
      },
      "cell_type": "code",
      "source": [
        "test.shape"
      ],
      "execution_count": 0,
      "outputs": []
    },
    {
      "metadata": {
        "id": "9FRn_pbYf45P",
        "colab_type": "code",
        "colab": {}
      },
      "cell_type": "code",
      "source": [
        "import os as os\n",
        "len(os.listdir('images/'))"
      ],
      "execution_count": 0,
      "outputs": []
    },
    {
      "metadata": {
        "id": "1eH_GMrIsceS",
        "colab_type": "code",
        "colab": {}
      },
      "cell_type": "code",
      "source": [
        "!mkdir 'train'"
      ],
      "execution_count": 0,
      "outputs": []
    },
    {
      "metadata": {
        "id": "fgfiCP7ysguW",
        "colab_type": "code",
        "colab": {}
      },
      "cell_type": "code",
      "source": [
        "!mkdir 'test'"
      ],
      "execution_count": 0,
      "outputs": []
    },
    {
      "metadata": {
        "id": "4TL1CyFdskxr",
        "colab_type": "code",
        "colab": {}
      },
      "cell_type": "code",
      "source": [
        "from shutil import copy\n",
        "from tqdm import tqdm\n",
        "for i in tqdm(list(train2['image_name'])):\n",
        "  copy('images/'+i, 'train/'+i)  "
      ],
      "execution_count": 0,
      "outputs": []
    },
    {
      "metadata": {
        "id": "5Et2fK5RtBt1",
        "colab_type": "code",
        "colab": {}
      },
      "cell_type": "code",
      "source": [
        "len(os.listdir('train'))"
      ],
      "execution_count": 0,
      "outputs": []
    },
    {
      "metadata": {
        "id": "9Y84Q58as1-L",
        "colab_type": "code",
        "colab": {}
      },
      "cell_type": "code",
      "source": [
        "from shutil import move, copy\n",
        "from tqdm import tqdm\n",
        "for i in tqdm(list(test['image_name'])):\n",
        "  copy('images/'+i, 'test/'+i)"
      ],
      "execution_count": 0,
      "outputs": []
    },
    {
      "metadata": {
        "id": "o_Vt_A-ftE_O",
        "colab_type": "code",
        "colab": {}
      },
      "cell_type": "code",
      "source": [
        "len(os.listdir('test'))"
      ],
      "execution_count": 0,
      "outputs": []
    },
    {
      "metadata": {
        "id": "TTmcTlpktJvC",
        "colab_type": "code",
        "colab": {}
      },
      "cell_type": "code",
      "source": [
        "from PIL import Image\n",
        "Image.open('train/'+os.listdir('train')[0])"
      ],
      "execution_count": 0,
      "outputs": []
    },
    {
      "metadata": {
        "id": "L-40f-gntT05",
        "colab_type": "code",
        "colab": {}
      },
      "cell_type": "code",
      "source": [
        "Image.open('train/'+os.listdir('train')[1])"
      ],
      "execution_count": 0,
      "outputs": []
    },
    {
      "metadata": {
        "id": "Xl_8qpftqr8j",
        "colab_type": "text"
      },
      "cell_type": "markdown",
      "source": [
        "# SECTION-3 (OPTIONAL TO RUN)\n",
        "\n",
        "The section has a code to link google colab notebook to google drive"
      ]
    },
    {
      "metadata": {
        "id": "HvKTbAlaB5O-",
        "colab_type": "text"
      },
      "cell_type": "markdown",
      "source": [
        "**CODE TO SAVE FILES IN DRIVE**"
      ]
    },
    {
      "metadata": {
        "id": "-BQKmP-2rLdC",
        "colab_type": "code",
        "colab": {}
      },
      "cell_type": "code",
      "source": [
        "# Install a Drive FUSE wrapper.\n",
        "# https://github.com/astrada/google-drive-ocamlfuse\n",
        "!apt-get install -y -qq software-properties-common python-software-properties module-init-tools\n",
        "!add-apt-repository -y ppa:alessandro-strada/ppa 2>&1 > /dev/null\n",
        "!apt-get update -qq 2>&1 > /dev/null\n",
        "!apt-get -y install -qq google-drive-ocamlfuse fuse"
      ],
      "execution_count": 0,
      "outputs": []
    },
    {
      "metadata": {
        "id": "-wHw3C99BG22",
        "colab_type": "code",
        "colab": {}
      },
      "cell_type": "code",
      "source": [
        "# Generate auth tokens for Colab\n",
        "from google.colab import auth\n",
        "auth.authenticate_user()"
      ],
      "execution_count": 0,
      "outputs": []
    },
    {
      "metadata": {
        "id": "EwCnjYClBJbA",
        "colab_type": "code",
        "colab": {}
      },
      "cell_type": "code",
      "source": [
        "# Generate creds for the Drive FUSE library.\n",
        "from oauth2client.client import GoogleCredentials\n",
        "creds = GoogleCredentials.get_application_default()\n",
        "import getpass\n",
        "!google-drive-ocamlfuse -headless -id={creds.client_id} -secret={creds.client_secret} < /dev/null 2>&1 | grep URL\n",
        "vcode = getpass.getpass()\n",
        "!echo {vcode} | google-drive-ocamlfuse -headless -id={creds.client_id} -secret={creds.client_secret}"
      ],
      "execution_count": 0,
      "outputs": []
    },
    {
      "metadata": {
        "id": "THzWVpPsBZtX",
        "colab_type": "code",
        "colab": {}
      },
      "cell_type": "code",
      "source": [
        "# Create a directory and mount Google Drive using that directory.\n",
        "!mkdir -p drive\n",
        "!google-drive-ocamlfuse drive"
      ],
      "execution_count": 0,
      "outputs": []
    },
    {
      "metadata": {
        "id": "35Hruzuxq8kK",
        "colab_type": "text"
      },
      "cell_type": "markdown",
      "source": [
        "# SECTION-4\n",
        "\n",
        "The section contains our model\n",
        "\n",
        "Run all cells in section to train the model for 160 epochs"
      ]
    },
    {
      "metadata": {
        "id": "nKjSwjDyX2B-",
        "colab_type": "text"
      },
      "cell_type": "markdown",
      "source": [
        "**DENSENET201 WITHOUT IMAGENET **"
      ]
    },
    {
      "metadata": {
        "id": "rKK0gerqa3D2",
        "colab_type": "code",
        "colab": {}
      },
      "cell_type": "code",
      "source": [
        "from PIL import Image\n",
        "from keras.applications.densenet import DenseNet201, preprocess_input\n",
        "from keras.models import Model\n",
        "from keras.layers import Dense, Dropout, Reshape, Conv2D\n",
        "import pandas as pd\n",
        "import numpy as np\n",
        "import os as os\n",
        "\n",
        "IMAGE_SIZE = 130"
      ],
      "execution_count": 0,
      "outputs": []
    },
    {
      "metadata": {
        "id": "LEFHusMycmdh",
        "colab_type": "code",
        "colab": {}
      },
      "cell_type": "code",
      "source": [
        "train = pd.read_csv('new_training_combined.csv')\n",
        "train.head()"
      ],
      "execution_count": 0,
      "outputs": []
    },
    {
      "metadata": {
        "id": "IVoWjp5ucwXY",
        "colab_type": "code",
        "colab": {}
      },
      "cell_type": "code",
      "source": [
        "train['x1'] = train['x1']*IMAGE_SIZE/640\n",
        "train['x2'] = train['x2']*IMAGE_SIZE/640\n",
        "train['y1'] = train['y1']*IMAGE_SIZE/480\n",
        "train['y2'] = train['y2']*IMAGE_SIZE/480"
      ],
      "execution_count": 0,
      "outputs": []
    },
    {
      "metadata": {
        "id": "WX2wesd2czLB",
        "colab_type": "code",
        "colab": {}
      },
      "cell_type": "code",
      "source": [
        "train.head()"
      ],
      "execution_count": 0,
      "outputs": []
    },
    {
      "metadata": {
        "id": "d2JcDexfc5o9",
        "colab_type": "code",
        "colab": {}
      },
      "cell_type": "code",
      "source": [
        "train2 = pd.DataFrame([], columns = ['image_name', 'x1', 'y1', 'lx', 'ly'])\n",
        "train2['image_name'] = train['image_name']\n",
        "train2['x1'] = train['x1']\n",
        "train2['y1'] = train['y1']\n",
        "train2['lx'] = (train['x2'] - train['x1'])\n",
        "train2['ly'] = (train['y2'] - train['y1'])"
      ],
      "execution_count": 0,
      "outputs": []
    },
    {
      "metadata": {
        "id": "9v9fZIh0c6Fm",
        "colab_type": "code",
        "colab": {}
      },
      "cell_type": "code",
      "source": [
        "train2.head()"
      ],
      "execution_count": 0,
      "outputs": []
    },
    {
      "metadata": {
        "id": "6PqImhpQc8pW",
        "colab_type": "code",
        "colab": {}
      },
      "cell_type": "code",
      "source": [
        "import numpy as np\n",
        "from tqdm import tqdm\n",
        "from PIL import Image\n",
        "\n",
        "X = np.zeros((len(os.listdir('train/')), IMAGE_SIZE, IMAGE_SIZE, 3), dtype = 'uint8')\n",
        "Y = np.zeros((len(os.listdir('train/')), 4))\n",
        "count = 0\n",
        "for i in tqdm(os.listdir('train')):\n",
        "  img = Image.open('train/'+i).resize((IMAGE_SIZE, IMAGE_SIZE)).convert('RGB')\n",
        "  X[count] = preprocess_input(np.array(img, dtype = 'uint8'))\n",
        "  img.close()\n",
        "  coord = []\n",
        "  coord.append(float(train2.loc[train2['image_name'] == i]['x1']))\n",
        "  coord.append(float(train2.loc[train2['image_name'] == i]['y1']))\n",
        "  coord.append(float(train2.loc[train2['image_name'] == i]['lx']))\n",
        "  coord.append(float(train2.loc[train2['image_name'] == i]['ly']))\n",
        "  #coord.append(int(train.loc[train['image_name'] == i]['y1']))\n",
        "  #coord.append(int(train.loc[train['image_name'] == i]['y2']))\n",
        "  Y[count] = np.array(coord)\n",
        "  count += 1"
      ],
      "execution_count": 0,
      "outputs": []
    },
    {
      "metadata": {
        "id": "s1bp5C3cdB2S",
        "colab_type": "code",
        "colab": {}
      },
      "cell_type": "code",
      "source": [
        "X.shape"
      ],
      "execution_count": 0,
      "outputs": []
    },
    {
      "metadata": {
        "id": "3Av5UyWIdB_x",
        "colab_type": "code",
        "colab": {}
      },
      "cell_type": "code",
      "source": [
        "Y.shape"
      ],
      "execution_count": 0,
      "outputs": []
    },
    {
      "metadata": {
        "id": "h-lhUXex0GR8",
        "colab_type": "code",
        "colab": {}
      },
      "cell_type": "code",
      "source": [
        "Image.fromarray(X[10], 'RGB')"
      ],
      "execution_count": 0,
      "outputs": []
    },
    {
      "metadata": {
        "id": "JFasujFqJrsk",
        "colab_type": "code",
        "colab": {}
      },
      "cell_type": "code",
      "source": [
        "#from sklearn.model_selection import train_test_split\n",
        "\n",
        "#X_train, Y_train, X_test, Y_test = train_test_split(X, Y, test_size = 0.1, random_state = 42)\n",
        "\n",
        "#print(X_train.shape)\n",
        "#print(X_test.shape)\n",
        "#print(Y_train.shape)\n",
        "#print(Y_test.shape)\n",
        "\n",
        "#X = None\n",
        "#Y = None"
      ],
      "execution_count": 0,
      "outputs": []
    },
    {
      "metadata": {
        "id": "fxEpyhHVdE8w",
        "colab_type": "code",
        "colab": {}
      },
      "cell_type": "code",
      "source": [
        "from keras.applications.densenet import DenseNet201\n",
        "def create_model():\n",
        "  ALPHA = 1.0\n",
        "  model = DenseNet201(input_shape=(IMAGE_SIZE, IMAGE_SIZE, 3), include_top=False, weights = None) #weights = None ensures random initialization of weights \n",
        "  x = model.layers[-1].output\n",
        "  x = Conv2D(4, kernel_size=3, strides = 2, name=\"coords\")(x)\n",
        "  x = Reshape((4,))(x)\n",
        "  return Model(inputs=model.input, outputs=x)"
      ],
      "execution_count": 0,
      "outputs": []
    },
    {
      "metadata": {
        "id": "UmR6lRERdFAt",
        "colab_type": "code",
        "colab": {}
      },
      "cell_type": "code",
      "source": [
        "def iou(y_true, y_pred):\n",
        "  x11 = y_true[:,0]\n",
        "  x12 = tf.add(y_true[:,0], y_true[:,2])\n",
        "  y11 = y_true[:,1]\n",
        "  y12 = tf.add(y_true[:,1], y_true[:,3])\n",
        "  \n",
        "  \n",
        "  x21 = y_pred[:,0]\n",
        "  x22 = tf.add(y_pred[:,0], y_pred[:,2])\n",
        "  y21 = y_pred[:,1]\n",
        "  y22 = tf.add(y_pred[:,1], y_pred[:,3])\n",
        "  \n",
        "  xi1 = tf.maximum(x11, x21)\n",
        "  xi2 = tf.minimum(x12, x22)\n",
        "  yi1 = tf.maximum(y11, y21)\n",
        "  yi2 = tf.minimum(y12, y22)\n",
        "  \n",
        "  inter_area = (yi2 - yi1)*(xi2 - xi1)\n",
        "  \n",
        "  box1_area = (x12 - x11)*(y12 - y11)\n",
        "  box2_area = (x22 - x21)*(y22 - y21)\n",
        "  \n",
        "  union_area = box1_area + box2_area - inter_area\n",
        "  \n",
        "  iou = inter_area/union_area\n",
        "  return iou"
      ],
      "execution_count": 0,
      "outputs": []
    },
    {
      "metadata": {
        "id": "9cgL90umdEwB",
        "colab_type": "code",
        "colab": {}
      },
      "cell_type": "code",
      "source": [
        "IMAGE_SIZE = 130\n",
        "model = create_model()\n",
        "model.summary()"
      ],
      "execution_count": 0,
      "outputs": []
    },
    {
      "metadata": {
        "id": "JTsvJFqbdUVg",
        "colab_type": "code",
        "colab": {}
      },
      "cell_type": "code",
      "source": [
        "import tensorflow as tf\n",
        "from tensorflow.keras.callbacks import EarlyStopping\n",
        "from keras.optimizers import Adam\n",
        "\n",
        "learning_rate = 0.001\n",
        "opt = Adam(lr = 0.001, amsgrad = True, decay = learning_rate/380)\n",
        "PATIENCE = 50\n",
        "model.compile(optimizer = opt, loss = 'mean_squared_error' , metrics = [iou])\n",
        "#stop = EarlyStopping(monitor=\"val_iou\", patience=PATIENCE, mode=\"max\")"
      ],
      "execution_count": 0,
      "outputs": []
    },
    {
      "metadata": {
        "id": "jRJguLf8dZN9",
        "colab_type": "code",
        "colab": {}
      },
      "cell_type": "code",
      "source": [
        "#model.load_weights('drive/densenet201_385_no_val.h5')\n",
        "model.fit(X, Y, epochs = 380, batch_size = 32, shuffle = True)"
      ],
      "execution_count": 0,
      "outputs": []
    },
    {
      "metadata": {
        "id": "3ATORrLthQF4",
        "colab_type": "code",
        "colab": {}
      },
      "cell_type": "code",
      "source": [
        "model.save_weights('densenet201_380_no_val.h5')\n",
        "#model.save_weights('drive/densenet201_420_no_val.h5')"
      ],
      "execution_count": 0,
      "outputs": []
    },
    {
      "metadata": {
        "id": "OTok5KsQsAGT",
        "colab_type": "text"
      },
      "cell_type": "markdown",
      "source": [
        "# SECTION-5\n",
        "\n",
        "Section contains code to generate the output csv file"
      ]
    },
    {
      "metadata": {
        "id": "71vfunAe_zgh",
        "colab_type": "code",
        "colab": {}
      },
      "cell_type": "code",
      "source": [
        "model.load_weights('densenet201_380_no_val.h5')"
      ],
      "execution_count": 0,
      "outputs": []
    },
    {
      "metadata": {
        "id": "pCocEyjLoK_P",
        "colab_type": "code",
        "colab": {}
      },
      "cell_type": "code",
      "source": [
        "test = pd.read_csv('test.csv')\n",
        "test.head()"
      ],
      "execution_count": 0,
      "outputs": []
    },
    {
      "metadata": {
        "id": "tyf0A1iJpae8",
        "colab_type": "code",
        "colab": {}
      },
      "cell_type": "code",
      "source": [
        "len(os.listdir('test/'))"
      ],
      "execution_count": 0,
      "outputs": []
    },
    {
      "metadata": {
        "id": "xTZaZZ-KBtwF",
        "colab_type": "code",
        "colab": {}
      },
      "cell_type": "code",
      "source": [
        "import numpy as np\n",
        "from tqdm import tqdm\n",
        "from PIL import Image\n",
        "\n",
        "test_X = np.zeros((len(os.listdir('test/')), IMAGE_SIZE, IMAGE_SIZE, 3), dtype = 'uint8')\n",
        "sub = []\n",
        "count = 0\n",
        "for i in tqdm(os.listdir('test')):\n",
        "  img = Image.open('test/'+i).resize((IMAGE_SIZE, IMAGE_SIZE)).convert('RGB')\n",
        "  test_X[count] = preprocess_input(np.array(img, dtype = 'uint8'))\n",
        "  img.close()\n",
        "  sub.append(i)\n",
        "  count += 1\n",
        "sub = np.array(sub)"
      ],
      "execution_count": 0,
      "outputs": []
    },
    {
      "metadata": {
        "id": "odi4QTJyB2sJ",
        "colab_type": "code",
        "colab": {}
      },
      "cell_type": "code",
      "source": [
        "test_X.shape"
      ],
      "execution_count": 0,
      "outputs": []
    },
    {
      "metadata": {
        "id": "KtNTazgsCcE2",
        "colab_type": "code",
        "colab": {}
      },
      "cell_type": "code",
      "source": [
        "sub.shape"
      ],
      "execution_count": 0,
      "outputs": []
    },
    {
      "metadata": {
        "id": "Jp_SElQ5CdQ0",
        "colab_type": "code",
        "colab": {}
      },
      "cell_type": "code",
      "source": [
        "pred = model.predict(test_X, verbose = 1)"
      ],
      "execution_count": 0,
      "outputs": []
    },
    {
      "metadata": {
        "id": "wdpuqJWZCmPt",
        "colab_type": "code",
        "colab": {}
      },
      "cell_type": "code",
      "source": [
        "sub = np.array(sub, copy = False)\n",
        "#sub = sub.reshape((24045,1))\n",
        "sub = np.expand_dims(sub, axis = 1)\n",
        "pred = np.append(sub, pred, axis = 1)\n",
        "pred.shape"
      ],
      "execution_count": 0,
      "outputs": []
    },
    {
      "metadata": {
        "id": "M8cPNVbXCqGL",
        "colab_type": "code",
        "colab": {}
      },
      "cell_type": "code",
      "source": [
        "df = pd.DataFrame(pred, columns = ['image_name', 'x', 'y', 'lx', 'ly'])\n",
        "df"
      ],
      "execution_count": 0,
      "outputs": []
    },
    {
      "metadata": {
        "id": "NwhHPGJBCqk7",
        "colab_type": "code",
        "colab": {}
      },
      "cell_type": "code",
      "source": [
        "df[\"x\"] = pd.to_numeric(df[\"x\"],errors='coerce')\n",
        "df[\"y\"] = pd.to_numeric(df[\"y\"],errors='coerce')\n",
        "df[\"lx\"] = pd.to_numeric(df[\"lx\"],errors='coerce')\n",
        "df[\"ly\"] = pd.to_numeric(df[\"ly\"],errors='coerce')"
      ],
      "execution_count": 0,
      "outputs": []
    },
    {
      "metadata": {
        "id": "U_zO30iwCv4O",
        "colab_type": "code",
        "colab": {}
      },
      "cell_type": "code",
      "source": [
        "x = df['x'].values\n",
        "y = df['y'].values\n",
        "lx = df['lx'].values\n",
        "ly = df['ly'].values\n",
        "\n",
        "y"
      ],
      "execution_count": 0,
      "outputs": []
    },
    {
      "metadata": {
        "id": "k3GgIRKGCwcw",
        "colab_type": "code",
        "colab": {}
      },
      "cell_type": "code",
      "source": [
        "sub_df = pd.DataFrame([], columns = ['image_name', 'x1', 'x2', 'y1', 'y2'])\n",
        "sub_df.image_name = df.image_name\n",
        "sub_df.x1 = np.multiply(x, 640/IMAGE_SIZE)\n",
        "sub_df.x2 = np.multiply(x + lx, 640/IMAGE_SIZE)\n",
        "sub_df.y1 = np.multiply(y, 480/IMAGE_SIZE)\n",
        "sub_df.y2 = np.multiply(y + ly, 480/IMAGE_SIZE)\n",
        "sub_df"
      ],
      "execution_count": 0,
      "outputs": []
    },
    {
      "metadata": {
        "id": "VYo7Uh9ICwph",
        "colab_type": "code",
        "colab": {}
      },
      "cell_type": "code",
      "source": [
        "sub_df.to_csv('submission_31.csv', index = False)"
      ],
      "execution_count": 0,
      "outputs": []
    },
    {
      "metadata": {
        "id": "e940CqfcIolR",
        "colab_type": "code",
        "colab": {}
      },
      "cell_type": "code",
      "source": [
        ""
      ],
      "execution_count": 0,
      "outputs": []
    }
  ]
}